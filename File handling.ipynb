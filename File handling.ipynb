{
 "cells": [
  {
   "cell_type": "markdown",
   "id": "93d021eb-3cb6-43e3-a62e-c8754c8a44d2",
   "metadata": {},
   "source": [
    "* create : x\n",
    "* read : r\n",
    "* write : w\n",
    "* append : a"
   ]
  },
  {
   "cell_type": "code",
   "execution_count": 2,
   "id": "0de16f81-90d6-4713-a343-58e8d064af97",
   "metadata": {},
   "outputs": [
    {
     "ename": "FileNotFoundError",
     "evalue": "[Errno 2] No such file or directory: 'broadway.txtr'",
     "output_type": "error",
     "traceback": [
      "\u001b[1;31m---------------------------------------------------------------------------\u001b[0m",
      "\u001b[1;31mFileNotFoundError\u001b[0m                         Traceback (most recent call last)",
      "Cell \u001b[1;32mIn[2], line 1\u001b[0m\n\u001b[1;32m----> 1\u001b[0m file \u001b[38;5;241m=\u001b[39m \u001b[38;5;28;43mopen\u001b[39;49m\u001b[43m(\u001b[49m\u001b[38;5;124;43m'\u001b[39;49m\u001b[38;5;124;43mbroadway.txt\u001b[39;49m\u001b[38;5;124;43m'\u001b[39;49m\u001b[43m \u001b[49m\u001b[38;5;124;43m'\u001b[39;49m\u001b[38;5;124;43mr\u001b[39;49m\u001b[38;5;124;43m'\u001b[39;49m\u001b[43m)\u001b[49m \u001b[38;5;66;03m# file not found file nai chaina \u001b[39;00m\n",
      "File \u001b[1;32m~\\AppData\\Local\\Programs\\Python\\Python310\\lib\\site-packages\\IPython\\core\\interactiveshell.py:284\u001b[0m, in \u001b[0;36m_modified_open\u001b[1;34m(file, *args, **kwargs)\u001b[0m\n\u001b[0;32m    277\u001b[0m \u001b[38;5;28;01mif\u001b[39;00m file \u001b[38;5;129;01min\u001b[39;00m {\u001b[38;5;241m0\u001b[39m, \u001b[38;5;241m1\u001b[39m, \u001b[38;5;241m2\u001b[39m}:\n\u001b[0;32m    278\u001b[0m     \u001b[38;5;28;01mraise\u001b[39;00m \u001b[38;5;167;01mValueError\u001b[39;00m(\n\u001b[0;32m    279\u001b[0m         \u001b[38;5;124mf\u001b[39m\u001b[38;5;124m\"\u001b[39m\u001b[38;5;124mIPython won\u001b[39m\u001b[38;5;124m'\u001b[39m\u001b[38;5;124mt let you open fd=\u001b[39m\u001b[38;5;132;01m{\u001b[39;00mfile\u001b[38;5;132;01m}\u001b[39;00m\u001b[38;5;124m by default \u001b[39m\u001b[38;5;124m\"\u001b[39m\n\u001b[0;32m    280\u001b[0m         \u001b[38;5;124m\"\u001b[39m\u001b[38;5;124mas it is likely to crash IPython. If you know what you are doing, \u001b[39m\u001b[38;5;124m\"\u001b[39m\n\u001b[0;32m    281\u001b[0m         \u001b[38;5;124m\"\u001b[39m\u001b[38;5;124myou can use builtins\u001b[39m\u001b[38;5;124m'\u001b[39m\u001b[38;5;124m open.\u001b[39m\u001b[38;5;124m\"\u001b[39m\n\u001b[0;32m    282\u001b[0m     )\n\u001b[1;32m--> 284\u001b[0m \u001b[38;5;28;01mreturn\u001b[39;00m io_open(file, \u001b[38;5;241m*\u001b[39margs, \u001b[38;5;241m*\u001b[39m\u001b[38;5;241m*\u001b[39mkwargs)\n",
      "\u001b[1;31mFileNotFoundError\u001b[0m: [Errno 2] No such file or directory: 'broadway.txtr'"
     ]
    }
   ],
   "source": [
    "file = open('broadway.txt' 'r') # file not found file nai chaina "
   ]
  },
  {
   "cell_type": "code",
   "execution_count": 3,
   "id": "51cb6096-a156-4ae2-9833-ba1290dafda6",
   "metadata": {},
   "outputs": [
    {
     "name": "stdout",
     "output_type": "stream",
     "text": [
      "[Errno 2] No such file or directory: 'broadway.txt'\n"
     ]
    }
   ],
   "source": [
    "try:\n",
    "    file = open('broadway.txt', 'r')\n",
    "except Exception as e:\n",
    "    print(e)"
   ]
  },
  {
   "cell_type": "code",
   "execution_count": 4,
   "id": "be338179-0f2a-4294-bbae-ca299e88e5cf",
   "metadata": {},
   "outputs": [],
   "source": [
    "file = open('student.txt', 'r')"
   ]
  },
  {
   "cell_type": "code",
   "execution_count": 5,
   "id": "bac0a8a5-11a5-412b-9a7f-bf6621a0dab2",
   "metadata": {},
   "outputs": [],
   "source": [
    "text = file.read()"
   ]
  },
  {
   "cell_type": "code",
   "execution_count": 6,
   "id": "2489756c-e91c-4e4b-8608-4c9b00f1154d",
   "metadata": {},
   "outputs": [
    {
     "name": "stdout",
     "output_type": "stream",
     "text": [
      "Beeplove\n",
      "Subash\n",
      "Akash\n",
      "Prabin\n",
      "\n"
     ]
    }
   ],
   "source": [
    "print(text)"
   ]
  },
  {
   "cell_type": "code",
   "execution_count": 7,
   "id": "af3be70e-b989-44e7-b8c9-5611c340ace8",
   "metadata": {},
   "outputs": [],
   "source": [
    "file.close()"
   ]
  },
  {
   "cell_type": "code",
   "execution_count": 8,
   "id": "8aa66f9d-5547-4b9b-b75c-ac2ccc0cb42c",
   "metadata": {},
   "outputs": [
    {
     "name": "stdout",
     "output_type": "stream",
     "text": [
      "Beeplove\n",
      "Subash\n",
      "Akash\n",
      "Prabin\n",
      "\n"
     ]
    }
   ],
   "source": [
    "with open('student.txt') as file:\n",
    "    text = file.read()\n",
    "\n",
    "print(text)"
   ]
  },
  {
   "cell_type": "markdown",
   "id": "d3efe16f-3567-4942-8534-2f1f24d159c7",
   "metadata": {},
   "source": [
    "# write mode\n",
    "* write mode ma file exist gardaina vane naya creat hunxa ani tesma write garne ho\n",
    "* If file already exist garxa bhane write mode le purano file hatauuxa ra naya banauuxa ra naya file na lekhne ho"
   ]
  },
  {
   "cell_type": "code",
   "execution_count": 9,
   "id": "65c0dd5d-772b-4c5c-9b0b-6f7be278dcc5",
   "metadata": {},
   "outputs": [],
   "source": [
    "with open('tinkune.txt', 'w') as file:\n",
    "    file.write(\"Tinkune ma Traffic Jam xa\")\n",
    "    "
   ]
  },
  {
   "cell_type": "code",
   "execution_count": 10,
   "id": "29c42bfa-4e3a-4e9b-a7fb-3a7733da694e",
   "metadata": {},
   "outputs": [
    {
     "name": "stdout",
     "output_type": "stream",
     "text": [
      "Tinkune ma Traffic Jam xa\n"
     ]
    }
   ],
   "source": [
    "# read the written file\n",
    "with open('tinkune.txt', 'r') as file:\n",
    "    text = file.read()\n",
    "print(text)"
   ]
  },
  {
   "cell_type": "code",
   "execution_count": null,
   "id": "14c7cffd-6d4d-498c-b57c-7e1266adb878",
   "metadata": {},
   "outputs": [],
   "source": [
    "# directory ma file xa ki xaina yesari check garna sakinxa\n"
   ]
  },
  {
   "cell_type": "code",
   "execution_count": 11,
   "id": "3ce61cd7-cc22-4cbb-961d-f2d9a71da6d2",
   "metadata": {},
   "outputs": [
    {
     "data": {
      "text/plain": [
       "True"
      ]
     },
     "execution_count": 11,
     "metadata": {},
     "output_type": "execute_result"
    }
   ],
   "source": [
    "import os\n",
    "os.path.exists('tinkune.txt')"
   ]
  },
  {
   "cell_type": "code",
   "execution_count": null,
   "id": "1ae00791-c220-47f0-8064-60e79c7d8921",
   "metadata": {},
   "outputs": [],
   "source": [
    "with open ('tinkune.txt', 'w') as file:\n",
    "    file.write(\"Tinkine ma Jam xaina\")\n",
    "# read the file now\n",
    "with open('tinkune.txt', 'r') as file:\n",
    "    text = file.read()\n",
    "print(text)"
   ]
  },
  {
   "cell_type": "markdown",
   "id": "0bbb8979-b164-4165-b1b4-a81d7f86939d",
   "metadata": {},
   "source": [
    "# Append\n",
    "* append mode ma file exist gardaina bhane naya file banxa\n",
    "* if file exist garxa bhane purano file ma append hunxa"
   ]
  },
  {
   "cell_type": "code",
   "execution_count": null,
   "id": "4750b7b4-04d9-4b07-ab78-e82588b617d3",
   "metadata": {},
   "outputs": [],
   "source": [
    "os.path.exists('comrade.txt')"
   ]
  },
  {
   "cell_type": "code",
   "execution_count": null,
   "id": "036ef701-eb0e-4ee1-806f-a6c4812e3636",
   "metadata": {},
   "outputs": [],
   "source": [
    "with open('comrade.txt', 'a') as file:\n",
    "    file.write(\"hamro mahan party.\\n\")\n",
    "    "
   ]
  },
  {
   "cell_type": "code",
   "execution_count": null,
   "id": "6d2e5b6e-6f4b-4841-872e-729f9ccbcf41",
   "metadata": {},
   "outputs": [],
   "source": [
    "os.path.exists('comrade.txt')\n"
   ]
  },
  {
   "cell_type": "code",
   "execution_count": null,
   "id": "151f2b09-4290-4f11-85fe-de3f26723718",
   "metadata": {},
   "outputs": [],
   "source": [
    "with open('comrate.txt', 'a') as file:\n",
    "    file.write(\"Maobadi.\\n\") # to txt puraro txt ko pachadi append hunxa"
   ]
  },
  {
   "cell_type": "code",
   "execution_count": null,
   "id": "a98a08bf-dfb0-456b-9c65-8d5ef7cf0c65",
   "metadata": {},
   "outputs": [],
   "source": [
    "with open('comrate.txt', 'a') as file:\n",
    "    file.write(\"Prachanda.\\n\") "
   ]
  },
  {
   "cell_type": "code",
   "execution_count": null,
   "id": "8159c711-1cc1-4d21-ad09-25016d822354",
   "metadata": {},
   "outputs": [],
   "source": [
    "with open('comrade.txt', 'r') as file:\n",
    "    text = file.read()\n",
    "    \n",
    "print(text)"
   ]
  },
  {
   "cell_type": "code",
   "execution_count": null,
   "id": "fac2440b-78da-4da3-96db-cd471488d952",
   "metadata": {},
   "outputs": [],
   "source": []
  },
  {
   "cell_type": "code",
   "execution_count": null,
   "id": "36ee126f-c94b-4425-b929-1994123ac495",
   "metadata": {},
   "outputs": [],
   "source": []
  }
 ],
 "metadata": {
  "kernelspec": {
   "display_name": "Python 3 (ipykernel)",
   "language": "python",
   "name": "python3"
  },
  "language_info": {
   "codemirror_mode": {
    "name": "ipython",
    "version": 3
   },
   "file_extension": ".py",
   "mimetype": "text/x-python",
   "name": "python",
   "nbconvert_exporter": "python",
   "pygments_lexer": "ipython3",
   "version": "3.10.11"
  }
 },
 "nbformat": 4,
 "nbformat_minor": 5
}
